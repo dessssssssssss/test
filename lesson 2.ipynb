{
 "cells": [
  {
   "cell_type": "code",
   "execution_count": null,
   "id": "73a7a05f-18e3-442c-834d-bb60d71e13d8",
   "metadata": {},
   "outputs": [
    {
     "name": "stdout",
     "output_type": "stream",
     "text": [
      " * Serving Flask app '__main__'\n",
      " * Debug mode: off\n"
     ]
    },
    {
     "name": "stderr",
     "output_type": "stream",
     "text": [
      "WARNING: This is a development server. Do not use it in a production deployment. Use a production WSGI server instead.\n",
      " * Running on http://127.0.0.1:5000\n",
      "Press CTRL+C to quit\n"
     ]
    }
   ],
   "source": [
    "from flask import Flask, render_template, request \n",
    "import google.generativeai as palm\n",
    "import replicate\n",
    "import os\n",
    "\n",
    "flag = 1\n",
    "name = \"\"\n",
    "\n",
    "makersuite_api = os.getenv(\"MAKERSUITE_API_TOKEN\")\n",
    "palm.configure(api_key = makersuite_API\")\n",
    "\n",
    "model = {\"model\" : \"models/chat-bison-001\"}\n",
    "app = Flask (__name__)\n",
    "\n",
    "@app.route(\"/\",methods=[\"GET\",\"POST\"])\n",
    "def index():\n",
    "    return(render_template(\"index.html\"))\n",
    "    \n",
    "@app.route(\"/main\",methods=[\"GET\",\"POST\"])\n",
    "def main():\n",
    "    global flag, name\n",
    "    if flag == 1:\n",
    "        name = request.form.get(\"q\")\n",
    "        flag = 0 \n",
    "    return(render_template(\"main.html\",r=name))\n",
    "\n",
    "@app.route(\"/prediction\",methods=[\"GET\",\"POST\"])\n",
    "def prediction():\n",
    "    return(render_template(\"prediction.html\"))\n",
    "    \n",
    "@app.route(\"/dbs_price\",methods=[\"GET\",\"POST\"])\n",
    "def dbs_price():\n",
    "    q = float(request.form.get(\"q\"))\n",
    "    return(render_template(\"dbs_price.html\",r=(q*-50.6)+90.2))\n",
    "\n",
    "@app.route(\"/generate_text\",methods=[\"GET\",\"POST\"])\n",
    "def generate_text():\n",
    "    return(render_template(\"generate_text.html\"))\n",
    "\n",
    "@app.route(\"/text_result_makersuite\",methods=[\"GET\",\"POST\"])\n",
    "def text_result_makersuite():\n",
    "    q = request.form.get(\"q\")\n",
    "    r = palm.chat(**model, messages = q)\n",
    "    return(render_template(\"text_result_makersuite.html\",r=r.last))\n",
    "\n",
    "@app.route(\"/generate_image\",methods=[\"GET\",\"POST\"])\n",
    "def generate_image():\n",
    "    return(render_template(\"generate_image.html\"))\n",
    "\n",
    "@app.route(\"/image_result\",methods=[\"GET\",\"POST\"])\n",
    "def image_result():\n",
    "    q = request.form.get(\"q\")\n",
    "    r = replicate.run(\"stability-ai/stable-diffusion:db21e45d3f7023abc2a46ee38a23973f6dce16bb082a930b0c49861f96d1e5bf\", input = {\"prompt\":q})   \n",
    "    return(render_template(\"image_result.html\",r=r[0]))\n",
    "\n",
    "@app.route(\"/end\",methods=[\"GET\",\"POST\"])\n",
    "def end():\n",
    "    global flag \n",
    "    flag = 1 \n",
    "    return(render_template(\"index.html\"))\n",
    "\n",
    "if __name__ == \"__main__\":\n",
    "        app.run()"
   ]
  },
  {
   "cell_type": "code",
   "execution_count": null,
   "id": "52a0d0b7-8377-415a-9e29-b51d1e814385",
   "metadata": {},
   "outputs": [],
   "source": []
  },
  {
   "cell_type": "code",
   "execution_count": null,
   "id": "c282ab34-29de-4d0d-8d4d-2913bc05d24a",
   "metadata": {},
   "outputs": [],
   "source": []
  }
 ],
 "metadata": {
  "kernelspec": {
   "display_name": "Python 3 (ipykernel)",
   "language": "python",
   "name": "python3"
  },
  "language_info": {
   "codemirror_mode": {
    "name": "ipython",
    "version": 3
   },
   "file_extension": ".py",
   "mimetype": "text/x-python",
   "name": "python",
   "nbconvert_exporter": "python",
   "pygments_lexer": "ipython3",
   "version": "3.11.7"
  }
 },
 "nbformat": 4,
 "nbformat_minor": 5
}
